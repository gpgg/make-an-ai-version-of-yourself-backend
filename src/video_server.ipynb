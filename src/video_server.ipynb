{
 "cells": [
  {
   "cell_type": "code",
   "execution_count": 1,
   "metadata": {},
   "outputs": [
    {
     "name": "stderr",
     "output_type": "stream",
     "text": [
      "WARNING: This is a development server. Do not use it in a production deployment. Use a production WSGI server instead.\n",
      " * Running on http://localhost:8081\n",
      "Press CTRL+C to quit\n",
      "127.0.0.1 - - [11/Mar/2023 12:58:18] \"GET / HTTP/1.1\" 404 -\n",
      "127.0.0.1 - - [11/Mar/2023 12:58:18] \"GET /favicon.ico HTTP/1.1\" 404 -\n",
      "127.0.0.1 - - [11/Mar/2023 12:58:25] \"GET /input_audio.wav HTTP/1.1\" 404 -\n",
      "127.0.0.1 - - [11/Mar/2023 12:58:36] \"GET /static/input_audio.wav HTTP/1.1\" 200 -\n",
      "127.0.0.1 - - [11/Mar/2023 12:58:36] \"GET /static/input_audio.wav HTTP/1.1\" 206 -\n",
      "127.0.0.1 - - [11/Mar/2023 12:58:51] \"GET /static/result_video.mp4 HTTP/1.1\" 200 -\n",
      "127.0.0.1 - - [11/Mar/2023 12:58:51] \"GET /static/result_video.mp4 HTTP/1.1\" 206 -\n",
      "127.0.0.1 - - [11/Mar/2023 13:00:50] \"GET /static/result_video.mp4?timestamp=1678507249795 HTTP/1.1\" 206 -\n",
      "127.0.0.1 - - [11/Mar/2023 13:00:50] \"GET /static/input_audio.wav?timestamp=1678507249795 HTTP/1.1\" 206 -\n",
      "127.0.0.1 - - [11/Mar/2023 13:01:51] \"GET /static/result_video.mp4?timestamp=1678507311012 HTTP/1.1\" 206 -\n",
      "127.0.0.1 - - [11/Mar/2023 13:01:51] \"GET /static/input_audio.wav?timestamp=1678507311012 HTTP/1.1\" 206 -\n",
      "127.0.0.1 - - [11/Mar/2023 13:02:29] \"GET /static/result_video.mp4?timestamp=1678507349387 HTTP/1.1\" 206 -\n",
      "127.0.0.1 - - [11/Mar/2023 13:02:29] \"GET /static/input_audio.wav?timestamp=1678507349387 HTTP/1.1\" 206 -\n"
     ]
    }
   ],
   "source": [
    "from flask import Flask, send_from_directory\n",
    "from flask_cors import CORS\n",
    "\n",
    "app = Flask(__name__)\n",
    "CORS(app)\n",
    "\n",
    "@app.route('/static/<path:path>')\n",
    "def get_file(path):\n",
    "    return send_from_directory('static', path)\n",
    "\n",
    "if __name__ == '__main__':\n",
    "    from werkzeug.serving import run_simple\n",
    "    run_simple('localhost', 8081, app)"
   ]
  },
  {
   "cell_type": "code",
   "execution_count": null,
   "metadata": {},
   "outputs": [],
   "source": []
  }
 ],
 "metadata": {
  "kernelspec": {
   "display_name": ".venv",
   "language": "python",
   "name": "python3"
  },
  "language_info": {
   "codemirror_mode": {
    "name": "ipython",
    "version": 3
   },
   "file_extension": ".py",
   "mimetype": "text/x-python",
   "name": "python",
   "nbconvert_exporter": "python",
   "pygments_lexer": "ipython3",
   "version": "3.8.10"
  },
  "orig_nbformat": 4
 },
 "nbformat": 4,
 "nbformat_minor": 2
}
